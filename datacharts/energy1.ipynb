{
 "cells": [
  {
   "cell_type": "code",
   "execution_count": 6,
   "id": "77e98139",
   "metadata": {},
   "outputs": [],
   "source": [
    "import pandas as pd\n",
    "from prophet import Prophet\n",
    "from prophet.plot import plot_plotly, plot_components_plotly\n",
    "from platform import python_version"
   ]
  },
  {
   "cell_type": "code",
   "execution_count": 8,
   "id": "58a686af",
   "metadata": {},
   "outputs": [],
   "source": [
    "#data = pd.read_csv('RTX.csv')\n",
    "data = pd.read_csv('outfile.csv')\n",
    "#data['ds'] = pd.to_datetime(data['ds'],format='%Y-%m-%d',dayfirst=True)\n",
    "data['ds'] = pd.to_datetime(data['ds'],format='%Y-%m-%d %H:%M:%S',dayfirst=False) ###RTX"
   ]
  },
  {
   "cell_type": "code",
   "execution_count": 9,
   "id": "35813f60",
   "metadata": {},
   "outputs": [
    {
     "name": "stdout",
     "output_type": "stream",
     "text": [
      "3.11.4\n"
     ]
    }
   ],
   "source": [
    "print(python_version())\n"
   ]
  },
  {
   "cell_type": "code",
   "execution_count": 11,
   "id": "0a0b474c",
   "metadata": {},
   "outputs": [
    {
     "name": "stdout",
     "output_type": "stream",
     "text": [
      "                          ds       y\n",
      "0  2023-06-14 00:00:00+02:00   97.25\n",
      "1  2023-06-14 01:00:00+02:00  102.25\n",
      "2  2023-06-14 02:00:00+02:00  105.58\n",
      "3  2023-06-14 03:00:00+02:00  104.12\n",
      "4  2023-06-14 04:00:00+02:00   96.14\n",
      "5  2023-06-14 05:00:00+02:00   98.14\n",
      "6  2023-06-14 06:00:00+02:00  126.93\n",
      "7  2023-06-14 07:00:00+02:00  136.99\n",
      "8  2023-06-14 08:00:00+02:00  128.00\n",
      "9  2023-06-14 09:00:00+02:00  103.32\n",
      "10 2023-06-14 10:00:00+02:00  106.06\n",
      "11 2023-06-14 11:00:00+02:00  117.09\n",
      "12 2023-06-14 12:00:00+02:00  117.12\n",
      "13 2023-06-14 13:00:00+02:00  120.55\n",
      "14 2023-06-14 14:00:00+02:00  113.99\n",
      "15 2023-06-14 15:00:00+02:00  120.94\n",
      "16 2023-06-14 16:00:00+02:00  124.02\n",
      "17 2023-06-14 17:00:00+02:00  116.43\n",
      "18 2023-06-14 18:00:00+02:00  119.98\n",
      "19 2023-06-14 19:00:00+02:00  142.07\n",
      "20 2023-06-14 20:00:00+02:00  152.79\n",
      "21 2023-06-14 21:00:00+02:00  144.30\n",
      "22 2023-06-14 22:00:00+02:00  119.77\n",
      "23 2023-06-14 23:00:00+02:00  108.70\n",
      "24 2023-06-15 00:00:00+02:00  107.12\n",
      "25 2023-06-15 01:00:00+02:00  102.77\n",
      "26 2023-06-15 02:00:00+02:00  100.62\n",
      "27 2023-06-15 03:00:00+02:00  101.24\n",
      "28 2023-06-15 04:00:00+02:00  100.37\n",
      "29 2023-06-15 05:00:00+02:00  113.38\n",
      "30 2023-06-15 06:00:00+02:00  159.99\n",
      "31 2023-06-15 07:00:00+02:00  166.10\n",
      "32 2023-06-15 08:00:00+02:00  140.07\n",
      "33 2023-06-15 09:00:00+02:00  130.50\n",
      "34 2023-06-15 10:00:00+02:00  107.52\n",
      "35 2023-06-15 11:00:00+02:00  116.94\n",
      "36 2023-06-15 12:00:00+02:00  116.45\n",
      "37 2023-06-15 13:00:00+02:00  117.21\n",
      "38 2023-06-15 14:00:00+02:00  116.92\n",
      "39 2023-06-15 15:00:00+02:00  103.17\n",
      "40 2023-06-15 16:00:00+02:00  119.10\n",
      "41 2023-06-15 17:00:00+02:00  131.90\n",
      "42 2023-06-15 18:00:00+02:00  152.87\n",
      "43 2023-06-15 19:00:00+02:00  160.04\n",
      "44 2023-06-15 20:00:00+02:00  179.22\n",
      "45 2023-06-15 21:00:00+02:00  172.31\n",
      "46 2023-06-15 22:00:00+02:00  150.76\n",
      "47 2023-06-15 23:00:00+02:00  125.31\n"
     ]
    }
   ],
   "source": [
    "print(data)"
   ]
  },
  {
   "cell_type": "code",
   "execution_count": 12,
   "id": "59df450f",
   "metadata": {},
   "outputs": [
    {
     "ename": "ValueError",
     "evalue": "Column ds has timezone specified, which is not supported. Remove timezone.",
     "output_type": "error",
     "traceback": [
      "\u001b[0;31m---------------------------------------------------------------------------\u001b[0m",
      "\u001b[0;31mValueError\u001b[0m                                Traceback (most recent call last)",
      "Cell \u001b[0;32mIn[12], line 3\u001b[0m\n\u001b[1;32m      1\u001b[0m \u001b[38;5;66;03m#create model for prophet\u001b[39;00m\n\u001b[1;32m      2\u001b[0m model \u001b[38;5;241m=\u001b[39m Prophet()\n\u001b[0;32m----> 3\u001b[0m \u001b[43mmodel\u001b[49m\u001b[38;5;241;43m.\u001b[39;49m\u001b[43mfit\u001b[49m\u001b[43m(\u001b[49m\u001b[43mdata\u001b[49m\u001b[43m)\u001b[49m\n",
      "File \u001b[0;32m~/Develop/cloud-hackaton/CloudRangers/venv2/lib/python3.11/site-packages/prophet/forecaster.py:1126\u001b[0m, in \u001b[0;36mProphet.fit\u001b[0;34m(self, df, **kwargs)\u001b[0m\n\u001b[1;32m   1123\u001b[0m     \u001b[38;5;28;01mraise\u001b[39;00m \u001b[38;5;167;01mValueError\u001b[39;00m(\u001b[38;5;124m'\u001b[39m\u001b[38;5;124mDataframe has less than 2 non-NaN rows.\u001b[39m\u001b[38;5;124m'\u001b[39m)\n\u001b[1;32m   1124\u001b[0m \u001b[38;5;28mself\u001b[39m\u001b[38;5;241m.\u001b[39mhistory_dates \u001b[38;5;241m=\u001b[39m pd\u001b[38;5;241m.\u001b[39mto_datetime(pd\u001b[38;5;241m.\u001b[39mSeries(df[\u001b[38;5;124m'\u001b[39m\u001b[38;5;124mds\u001b[39m\u001b[38;5;124m'\u001b[39m]\u001b[38;5;241m.\u001b[39munique(), name\u001b[38;5;241m=\u001b[39m\u001b[38;5;124m'\u001b[39m\u001b[38;5;124mds\u001b[39m\u001b[38;5;124m'\u001b[39m))\u001b[38;5;241m.\u001b[39msort_values()\n\u001b[0;32m-> 1126\u001b[0m history \u001b[38;5;241m=\u001b[39m \u001b[38;5;28;43mself\u001b[39;49m\u001b[38;5;241;43m.\u001b[39;49m\u001b[43msetup_dataframe\u001b[49m\u001b[43m(\u001b[49m\u001b[43mhistory\u001b[49m\u001b[43m,\u001b[49m\u001b[43m \u001b[49m\u001b[43minitialize_scales\u001b[49m\u001b[38;5;241;43m=\u001b[39;49m\u001b[38;5;28;43;01mTrue\u001b[39;49;00m\u001b[43m)\u001b[49m\n\u001b[1;32m   1127\u001b[0m \u001b[38;5;28mself\u001b[39m\u001b[38;5;241m.\u001b[39mhistory \u001b[38;5;241m=\u001b[39m history\n\u001b[1;32m   1128\u001b[0m \u001b[38;5;28mself\u001b[39m\u001b[38;5;241m.\u001b[39mset_auto_seasonalities()\n",
      "File \u001b[0;32m~/Develop/cloud-hackaton/CloudRangers/venv2/lib/python3.11/site-packages/prophet/forecaster.py:273\u001b[0m, in \u001b[0;36mProphet.setup_dataframe\u001b[0;34m(self, df, initialize_scales)\u001b[0m\n\u001b[1;32m    271\u001b[0m df[\u001b[38;5;124m'\u001b[39m\u001b[38;5;124mds\u001b[39m\u001b[38;5;124m'\u001b[39m] \u001b[38;5;241m=\u001b[39m pd\u001b[38;5;241m.\u001b[39mto_datetime(df[\u001b[38;5;124m'\u001b[39m\u001b[38;5;124mds\u001b[39m\u001b[38;5;124m'\u001b[39m])\n\u001b[1;32m    272\u001b[0m \u001b[38;5;28;01mif\u001b[39;00m df[\u001b[38;5;124m'\u001b[39m\u001b[38;5;124mds\u001b[39m\u001b[38;5;124m'\u001b[39m]\u001b[38;5;241m.\u001b[39mdt\u001b[38;5;241m.\u001b[39mtz \u001b[38;5;129;01mis\u001b[39;00m \u001b[38;5;129;01mnot\u001b[39;00m \u001b[38;5;28;01mNone\u001b[39;00m:\n\u001b[0;32m--> 273\u001b[0m     \u001b[38;5;28;01mraise\u001b[39;00m \u001b[38;5;167;01mValueError\u001b[39;00m(\n\u001b[1;32m    274\u001b[0m         \u001b[38;5;124m'\u001b[39m\u001b[38;5;124mColumn ds has timezone specified, which is not supported. \u001b[39m\u001b[38;5;124m'\u001b[39m\n\u001b[1;32m    275\u001b[0m         \u001b[38;5;124m'\u001b[39m\u001b[38;5;124mRemove timezone.\u001b[39m\u001b[38;5;124m'\u001b[39m\n\u001b[1;32m    276\u001b[0m     )\n\u001b[1;32m    277\u001b[0m \u001b[38;5;28;01mif\u001b[39;00m df[\u001b[38;5;124m'\u001b[39m\u001b[38;5;124mds\u001b[39m\u001b[38;5;124m'\u001b[39m]\u001b[38;5;241m.\u001b[39misnull()\u001b[38;5;241m.\u001b[39many():\n\u001b[1;32m    278\u001b[0m     \u001b[38;5;28;01mraise\u001b[39;00m \u001b[38;5;167;01mValueError\u001b[39;00m(\u001b[38;5;124m'\u001b[39m\u001b[38;5;124mFound NaN in column ds.\u001b[39m\u001b[38;5;124m'\u001b[39m)\n",
      "\u001b[0;31mValueError\u001b[0m: Column ds has timezone specified, which is not supported. Remove timezone."
     ]
    }
   ],
   "source": [
    "#create model for prophet\n",
    "model = Prophet()\n",
    "model.fit(data)"
   ]
  },
  {
   "cell_type": "code",
   "execution_count": 13,
   "id": "8f9ef9df",
   "metadata": {},
   "outputs": [],
   "source": [
    "future = model.make_future_dataframe(periods=5,freq='H')"
   ]
  },
  {
   "cell_type": "code",
   "execution_count": 14,
   "id": "b6aa3bb9",
   "metadata": {},
   "outputs": [
    {
     "data": {
      "text/html": [
       "<div>\n",
       "<style scoped>\n",
       "    .dataframe tbody tr th:only-of-type {\n",
       "        vertical-align: middle;\n",
       "    }\n",
       "\n",
       "    .dataframe tbody tr th {\n",
       "        vertical-align: top;\n",
       "    }\n",
       "\n",
       "    .dataframe thead th {\n",
       "        text-align: right;\n",
       "    }\n",
       "</style>\n",
       "<table border=\"1\" class=\"dataframe\">\n",
       "  <thead>\n",
       "    <tr style=\"text-align: right;\">\n",
       "      <th></th>\n",
       "      <th>ds</th>\n",
       "    </tr>\n",
       "  </thead>\n",
       "  <tbody>\n",
       "    <tr>\n",
       "      <th>0</th>\n",
       "      <td>2023-06-14 00:00:00+02:00</td>\n",
       "    </tr>\n",
       "    <tr>\n",
       "      <th>1</th>\n",
       "      <td>2023-06-14 01:00:00+02:00</td>\n",
       "    </tr>\n",
       "    <tr>\n",
       "      <th>2</th>\n",
       "      <td>2023-06-14 02:00:00+02:00</td>\n",
       "    </tr>\n",
       "    <tr>\n",
       "      <th>3</th>\n",
       "      <td>2023-06-14 03:00:00+02:00</td>\n",
       "    </tr>\n",
       "    <tr>\n",
       "      <th>4</th>\n",
       "      <td>2023-06-14 04:00:00+02:00</td>\n",
       "    </tr>\n",
       "    <tr>\n",
       "      <th>5</th>\n",
       "      <td>2023-06-14 05:00:00+02:00</td>\n",
       "    </tr>\n",
       "    <tr>\n",
       "      <th>6</th>\n",
       "      <td>2023-06-14 06:00:00+02:00</td>\n",
       "    </tr>\n",
       "    <tr>\n",
       "      <th>7</th>\n",
       "      <td>2023-06-14 07:00:00+02:00</td>\n",
       "    </tr>\n",
       "    <tr>\n",
       "      <th>8</th>\n",
       "      <td>2023-06-14 08:00:00+02:00</td>\n",
       "    </tr>\n",
       "    <tr>\n",
       "      <th>9</th>\n",
       "      <td>2023-06-14 09:00:00+02:00</td>\n",
       "    </tr>\n",
       "    <tr>\n",
       "      <th>10</th>\n",
       "      <td>2023-06-14 10:00:00+02:00</td>\n",
       "    </tr>\n",
       "    <tr>\n",
       "      <th>11</th>\n",
       "      <td>2023-06-14 11:00:00+02:00</td>\n",
       "    </tr>\n",
       "    <tr>\n",
       "      <th>12</th>\n",
       "      <td>2023-06-14 12:00:00+02:00</td>\n",
       "    </tr>\n",
       "    <tr>\n",
       "      <th>13</th>\n",
       "      <td>2023-06-14 13:00:00+02:00</td>\n",
       "    </tr>\n",
       "    <tr>\n",
       "      <th>14</th>\n",
       "      <td>2023-06-14 14:00:00+02:00</td>\n",
       "    </tr>\n",
       "    <tr>\n",
       "      <th>15</th>\n",
       "      <td>2023-06-14 15:00:00+02:00</td>\n",
       "    </tr>\n",
       "    <tr>\n",
       "      <th>16</th>\n",
       "      <td>2023-06-14 16:00:00+02:00</td>\n",
       "    </tr>\n",
       "    <tr>\n",
       "      <th>17</th>\n",
       "      <td>2023-06-14 17:00:00+02:00</td>\n",
       "    </tr>\n",
       "    <tr>\n",
       "      <th>18</th>\n",
       "      <td>2023-06-14 18:00:00+02:00</td>\n",
       "    </tr>\n",
       "    <tr>\n",
       "      <th>19</th>\n",
       "      <td>2023-06-14 19:00:00+02:00</td>\n",
       "    </tr>\n",
       "    <tr>\n",
       "      <th>20</th>\n",
       "      <td>2023-06-14 20:00:00+02:00</td>\n",
       "    </tr>\n",
       "    <tr>\n",
       "      <th>21</th>\n",
       "      <td>2023-06-14 21:00:00+02:00</td>\n",
       "    </tr>\n",
       "    <tr>\n",
       "      <th>22</th>\n",
       "      <td>2023-06-14 22:00:00+02:00</td>\n",
       "    </tr>\n",
       "    <tr>\n",
       "      <th>23</th>\n",
       "      <td>2023-06-14 23:00:00+02:00</td>\n",
       "    </tr>\n",
       "    <tr>\n",
       "      <th>24</th>\n",
       "      <td>2023-06-15 00:00:00+02:00</td>\n",
       "    </tr>\n",
       "    <tr>\n",
       "      <th>25</th>\n",
       "      <td>2023-06-15 01:00:00+02:00</td>\n",
       "    </tr>\n",
       "    <tr>\n",
       "      <th>26</th>\n",
       "      <td>2023-06-15 02:00:00+02:00</td>\n",
       "    </tr>\n",
       "    <tr>\n",
       "      <th>27</th>\n",
       "      <td>2023-06-15 03:00:00+02:00</td>\n",
       "    </tr>\n",
       "    <tr>\n",
       "      <th>28</th>\n",
       "      <td>2023-06-15 04:00:00+02:00</td>\n",
       "    </tr>\n",
       "    <tr>\n",
       "      <th>29</th>\n",
       "      <td>2023-06-15 05:00:00+02:00</td>\n",
       "    </tr>\n",
       "    <tr>\n",
       "      <th>30</th>\n",
       "      <td>2023-06-15 06:00:00+02:00</td>\n",
       "    </tr>\n",
       "    <tr>\n",
       "      <th>31</th>\n",
       "      <td>2023-06-15 07:00:00+02:00</td>\n",
       "    </tr>\n",
       "    <tr>\n",
       "      <th>32</th>\n",
       "      <td>2023-06-15 08:00:00+02:00</td>\n",
       "    </tr>\n",
       "    <tr>\n",
       "      <th>33</th>\n",
       "      <td>2023-06-15 09:00:00+02:00</td>\n",
       "    </tr>\n",
       "    <tr>\n",
       "      <th>34</th>\n",
       "      <td>2023-06-15 10:00:00+02:00</td>\n",
       "    </tr>\n",
       "    <tr>\n",
       "      <th>35</th>\n",
       "      <td>2023-06-15 11:00:00+02:00</td>\n",
       "    </tr>\n",
       "    <tr>\n",
       "      <th>36</th>\n",
       "      <td>2023-06-15 12:00:00+02:00</td>\n",
       "    </tr>\n",
       "    <tr>\n",
       "      <th>37</th>\n",
       "      <td>2023-06-15 13:00:00+02:00</td>\n",
       "    </tr>\n",
       "    <tr>\n",
       "      <th>38</th>\n",
       "      <td>2023-06-15 14:00:00+02:00</td>\n",
       "    </tr>\n",
       "    <tr>\n",
       "      <th>39</th>\n",
       "      <td>2023-06-15 15:00:00+02:00</td>\n",
       "    </tr>\n",
       "    <tr>\n",
       "      <th>40</th>\n",
       "      <td>2023-06-15 16:00:00+02:00</td>\n",
       "    </tr>\n",
       "    <tr>\n",
       "      <th>41</th>\n",
       "      <td>2023-06-15 17:00:00+02:00</td>\n",
       "    </tr>\n",
       "    <tr>\n",
       "      <th>42</th>\n",
       "      <td>2023-06-15 18:00:00+02:00</td>\n",
       "    </tr>\n",
       "    <tr>\n",
       "      <th>43</th>\n",
       "      <td>2023-06-15 19:00:00+02:00</td>\n",
       "    </tr>\n",
       "    <tr>\n",
       "      <th>44</th>\n",
       "      <td>2023-06-15 20:00:00+02:00</td>\n",
       "    </tr>\n",
       "    <tr>\n",
       "      <th>45</th>\n",
       "      <td>2023-06-15 21:00:00+02:00</td>\n",
       "    </tr>\n",
       "    <tr>\n",
       "      <th>46</th>\n",
       "      <td>2023-06-15 22:00:00+02:00</td>\n",
       "    </tr>\n",
       "    <tr>\n",
       "      <th>47</th>\n",
       "      <td>2023-06-15 23:00:00+02:00</td>\n",
       "    </tr>\n",
       "    <tr>\n",
       "      <th>48</th>\n",
       "      <td>2023-06-16 00:00:00+02:00</td>\n",
       "    </tr>\n",
       "    <tr>\n",
       "      <th>49</th>\n",
       "      <td>2023-06-16 01:00:00+02:00</td>\n",
       "    </tr>\n",
       "    <tr>\n",
       "      <th>50</th>\n",
       "      <td>2023-06-16 02:00:00+02:00</td>\n",
       "    </tr>\n",
       "    <tr>\n",
       "      <th>51</th>\n",
       "      <td>2023-06-16 03:00:00+02:00</td>\n",
       "    </tr>\n",
       "    <tr>\n",
       "      <th>52</th>\n",
       "      <td>2023-06-16 04:00:00+02:00</td>\n",
       "    </tr>\n",
       "  </tbody>\n",
       "</table>\n",
       "</div>"
      ],
      "text/plain": [
       "                          ds\n",
       "0  2023-06-14 00:00:00+02:00\n",
       "1  2023-06-14 01:00:00+02:00\n",
       "2  2023-06-14 02:00:00+02:00\n",
       "3  2023-06-14 03:00:00+02:00\n",
       "4  2023-06-14 04:00:00+02:00\n",
       "5  2023-06-14 05:00:00+02:00\n",
       "6  2023-06-14 06:00:00+02:00\n",
       "7  2023-06-14 07:00:00+02:00\n",
       "8  2023-06-14 08:00:00+02:00\n",
       "9  2023-06-14 09:00:00+02:00\n",
       "10 2023-06-14 10:00:00+02:00\n",
       "11 2023-06-14 11:00:00+02:00\n",
       "12 2023-06-14 12:00:00+02:00\n",
       "13 2023-06-14 13:00:00+02:00\n",
       "14 2023-06-14 14:00:00+02:00\n",
       "15 2023-06-14 15:00:00+02:00\n",
       "16 2023-06-14 16:00:00+02:00\n",
       "17 2023-06-14 17:00:00+02:00\n",
       "18 2023-06-14 18:00:00+02:00\n",
       "19 2023-06-14 19:00:00+02:00\n",
       "20 2023-06-14 20:00:00+02:00\n",
       "21 2023-06-14 21:00:00+02:00\n",
       "22 2023-06-14 22:00:00+02:00\n",
       "23 2023-06-14 23:00:00+02:00\n",
       "24 2023-06-15 00:00:00+02:00\n",
       "25 2023-06-15 01:00:00+02:00\n",
       "26 2023-06-15 02:00:00+02:00\n",
       "27 2023-06-15 03:00:00+02:00\n",
       "28 2023-06-15 04:00:00+02:00\n",
       "29 2023-06-15 05:00:00+02:00\n",
       "30 2023-06-15 06:00:00+02:00\n",
       "31 2023-06-15 07:00:00+02:00\n",
       "32 2023-06-15 08:00:00+02:00\n",
       "33 2023-06-15 09:00:00+02:00\n",
       "34 2023-06-15 10:00:00+02:00\n",
       "35 2023-06-15 11:00:00+02:00\n",
       "36 2023-06-15 12:00:00+02:00\n",
       "37 2023-06-15 13:00:00+02:00\n",
       "38 2023-06-15 14:00:00+02:00\n",
       "39 2023-06-15 15:00:00+02:00\n",
       "40 2023-06-15 16:00:00+02:00\n",
       "41 2023-06-15 17:00:00+02:00\n",
       "42 2023-06-15 18:00:00+02:00\n",
       "43 2023-06-15 19:00:00+02:00\n",
       "44 2023-06-15 20:00:00+02:00\n",
       "45 2023-06-15 21:00:00+02:00\n",
       "46 2023-06-15 22:00:00+02:00\n",
       "47 2023-06-15 23:00:00+02:00\n",
       "48 2023-06-16 00:00:00+02:00\n",
       "49 2023-06-16 01:00:00+02:00\n",
       "50 2023-06-16 02:00:00+02:00\n",
       "51 2023-06-16 03:00:00+02:00\n",
       "52 2023-06-16 04:00:00+02:00"
      ]
     },
     "execution_count": 14,
     "metadata": {},
     "output_type": "execute_result"
    }
   ],
   "source": [
    "future.tail(60)\n"
   ]
  },
  {
   "cell_type": "code",
   "execution_count": 15,
   "id": "797f0e02",
   "metadata": {},
   "outputs": [
    {
     "ename": "Exception",
     "evalue": "Model has not been fit.",
     "output_type": "error",
     "traceback": [
      "\u001b[0;31m---------------------------------------------------------------------------\u001b[0m",
      "\u001b[0;31mException\u001b[0m                                 Traceback (most recent call last)",
      "Cell \u001b[0;32mIn[15], line 1\u001b[0m\n\u001b[0;32m----> 1\u001b[0m forecast \u001b[38;5;241m=\u001b[39m \u001b[43mmodel\u001b[49m\u001b[38;5;241;43m.\u001b[39;49m\u001b[43mpredict\u001b[49m\u001b[43m(\u001b[49m\u001b[43mfuture\u001b[49m\u001b[43m)\u001b[49m\n",
      "File \u001b[0;32m~/Develop/cloud-hackaton/CloudRangers/venv2/lib/python3.11/site-packages/prophet/forecaster.py:1212\u001b[0m, in \u001b[0;36mProphet.predict\u001b[0;34m(self, df, vectorized)\u001b[0m\n\u001b[1;32m   1196\u001b[0m \u001b[38;5;250m\u001b[39m\u001b[38;5;124;03m\"\"\"Predict using the prophet model.\u001b[39;00m\n\u001b[1;32m   1197\u001b[0m \n\u001b[1;32m   1198\u001b[0m \u001b[38;5;124;03mParameters\u001b[39;00m\n\u001b[0;32m   (...)\u001b[0m\n\u001b[1;32m   1209\u001b[0m \u001b[38;5;124;03mA pd.DataFrame with the forecast components.\u001b[39;00m\n\u001b[1;32m   1210\u001b[0m \u001b[38;5;124;03m\"\"\"\u001b[39;00m\n\u001b[1;32m   1211\u001b[0m \u001b[38;5;28;01mif\u001b[39;00m \u001b[38;5;28mself\u001b[39m\u001b[38;5;241m.\u001b[39mhistory \u001b[38;5;129;01mis\u001b[39;00m \u001b[38;5;28;01mNone\u001b[39;00m:\n\u001b[0;32m-> 1212\u001b[0m     \u001b[38;5;28;01mraise\u001b[39;00m \u001b[38;5;167;01mException\u001b[39;00m(\u001b[38;5;124m'\u001b[39m\u001b[38;5;124mModel has not been fit.\u001b[39m\u001b[38;5;124m'\u001b[39m)\n\u001b[1;32m   1214\u001b[0m \u001b[38;5;28;01mif\u001b[39;00m df \u001b[38;5;129;01mis\u001b[39;00m \u001b[38;5;28;01mNone\u001b[39;00m:\n\u001b[1;32m   1215\u001b[0m     df \u001b[38;5;241m=\u001b[39m \u001b[38;5;28mself\u001b[39m\u001b[38;5;241m.\u001b[39mhistory\u001b[38;5;241m.\u001b[39mcopy()\n",
      "\u001b[0;31mException\u001b[0m: Model has not been fit."
     ]
    }
   ],
   "source": [
    "forecast = model.predict(future)\n",
    "\n",
    "\n"
   ]
  },
  {
   "cell_type": "code",
   "execution_count": 16,
   "id": "1944abc0",
   "metadata": {},
   "outputs": [
    {
     "ename": "NameError",
     "evalue": "name 'forecast' is not defined",
     "output_type": "error",
     "traceback": [
      "\u001b[0;31m---------------------------------------------------------------------------\u001b[0m",
      "\u001b[0;31mNameError\u001b[0m                                 Traceback (most recent call last)",
      "Cell \u001b[0;32mIn[16], line 1\u001b[0m\n\u001b[0;32m----> 1\u001b[0m \u001b[38;5;28mprint\u001b[39m(\u001b[43mforecast\u001b[49m[[\u001b[38;5;124m'\u001b[39m\u001b[38;5;124mds\u001b[39m\u001b[38;5;124m'\u001b[39m, \u001b[38;5;124m'\u001b[39m\u001b[38;5;124myhat\u001b[39m\u001b[38;5;124m'\u001b[39m, \u001b[38;5;124m'\u001b[39m\u001b[38;5;124myhat_lower\u001b[39m\u001b[38;5;124m'\u001b[39m, \u001b[38;5;124m'\u001b[39m\u001b[38;5;124myhat_upper\u001b[39m\u001b[38;5;124m'\u001b[39m]]\u001b[38;5;241m.\u001b[39mtail(\u001b[38;5;241m30\u001b[39m))\n",
      "\u001b[0;31mNameError\u001b[0m: name 'forecast' is not defined"
     ]
    }
   ],
   "source": [
    "print(forecast[['ds', 'yhat', 'yhat_lower', 'yhat_upper']].tail(30))\n"
   ]
  },
  {
   "cell_type": "code",
   "execution_count": 17,
   "id": "666afb72",
   "metadata": {},
   "outputs": [
    {
     "ename": "NameError",
     "evalue": "name 'forecast' is not defined",
     "output_type": "error",
     "traceback": [
      "\u001b[0;31m---------------------------------------------------------------------------\u001b[0m",
      "\u001b[0;31mNameError\u001b[0m                                 Traceback (most recent call last)",
      "Cell \u001b[0;32mIn[17], line 1\u001b[0m\n\u001b[0;32m----> 1\u001b[0m fig1 \u001b[38;5;241m=\u001b[39m model\u001b[38;5;241m.\u001b[39mplot(\u001b[43mforecast\u001b[49m)\n\u001b[1;32m      2\u001b[0m fig2 \u001b[38;5;241m=\u001b[39m model\u001b[38;5;241m.\u001b[39mplot_components(forecast)\n",
      "\u001b[0;31mNameError\u001b[0m: name 'forecast' is not defined"
     ]
    }
   ],
   "source": [
    "fig1 = model.plot(forecast)\n",
    "fig2 = model.plot_components(forecast)\n",
    "\n"
   ]
  },
  {
   "cell_type": "code",
   "execution_count": null,
   "id": "365736a5",
   "metadata": {},
   "outputs": [],
   "source": []
  },
  {
   "cell_type": "code",
   "execution_count": 18,
   "id": "79208532",
   "metadata": {},
   "outputs": [
    {
     "ename": "NameError",
     "evalue": "name 'forecast' is not defined",
     "output_type": "error",
     "traceback": [
      "\u001b[0;31m---------------------------------------------------------------------------\u001b[0m",
      "\u001b[0;31mNameError\u001b[0m                                 Traceback (most recent call last)",
      "Cell \u001b[0;32mIn[18], line 1\u001b[0m\n\u001b[0;32m----> 1\u001b[0m plot_plotly(model, \u001b[43mforecast\u001b[49m)\n",
      "\u001b[0;31mNameError\u001b[0m: name 'forecast' is not defined"
     ]
    }
   ],
   "source": [
    "\n",
    "plot_plotly(model, forecast)\n"
   ]
  },
  {
   "cell_type": "code",
   "execution_count": 19,
   "id": "7ca47d26",
   "metadata": {},
   "outputs": [
    {
     "ename": "NameError",
     "evalue": "name 'forecast' is not defined",
     "output_type": "error",
     "traceback": [
      "\u001b[0;31m---------------------------------------------------------------------------\u001b[0m",
      "\u001b[0;31mNameError\u001b[0m                                 Traceback (most recent call last)",
      "Cell \u001b[0;32mIn[19], line 1\u001b[0m\n\u001b[0;32m----> 1\u001b[0m plot_components_plotly(model, \u001b[43mforecast\u001b[49m)\n",
      "\u001b[0;31mNameError\u001b[0m: name 'forecast' is not defined"
     ]
    }
   ],
   "source": [
    "plot_components_plotly(model, forecast)\n"
   ]
  },
  {
   "cell_type": "code",
   "execution_count": null,
   "id": "82a64174",
   "metadata": {},
   "outputs": [],
   "source": []
  },
  {
   "cell_type": "code",
   "execution_count": null,
   "id": "e5e1ee88",
   "metadata": {},
   "outputs": [],
   "source": []
  },
  {
   "cell_type": "code",
   "execution_count": null,
   "id": "7c029b13",
   "metadata": {},
   "outputs": [],
   "source": []
  },
  {
   "cell_type": "code",
   "execution_count": null,
   "id": "56a1c2bc",
   "metadata": {},
   "outputs": [],
   "source": []
  },
  {
   "cell_type": "code",
   "execution_count": null,
   "id": "82b60339",
   "metadata": {},
   "outputs": [],
   "source": []
  },
  {
   "cell_type": "code",
   "execution_count": null,
   "id": "08a29ec9",
   "metadata": {},
   "outputs": [],
   "source": []
  },
  {
   "cell_type": "code",
   "execution_count": null,
   "id": "4ba736f3",
   "metadata": {},
   "outputs": [],
   "source": []
  }
 ],
 "metadata": {
  "kernelspec": {
   "display_name": "Python 3 (ipykernel)",
   "language": "python",
   "name": "python3"
  },
  "language_info": {
   "codemirror_mode": {
    "name": "ipython",
    "version": 3
   },
   "file_extension": ".py",
   "mimetype": "text/x-python",
   "name": "python",
   "nbconvert_exporter": "python",
   "pygments_lexer": "ipython3",
   "version": "3.11.4"
  }
 },
 "nbformat": 4,
 "nbformat_minor": 5
}
