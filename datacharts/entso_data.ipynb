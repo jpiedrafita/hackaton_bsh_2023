{
 "cells": [
  {
   "cell_type": "code",
   "execution_count": 3,
   "id": "a01b349c",
   "metadata": {},
   "outputs": [],
   "source": [
    "from entsoe import EntsoePandasClient\n",
    "import pandas as pd\n"
   ]
  },
  {
   "cell_type": "code",
   "execution_count": 4,
   "id": "aceea092",
   "metadata": {},
   "outputs": [],
   "source": [
    "client = EntsoePandasClient(api_key='794ce2cd-1b5a-42b8-9a50-f52076ca828d')\n"
   ]
  },
  {
   "cell_type": "code",
   "execution_count": 5,
   "id": "65785da1",
   "metadata": {},
   "outputs": [],
   "source": [
    "start = pd.Timestamp('20230613', tz='Europe/Brussels')\n",
    "end = pd.Timestamp('20230614', tz='Europe/Brussels')\n",
    "country_code = 'BE'  # Belgium\n",
    "country_code_from = 'FR'  # France\n",
    "country_code_to = 'DE_LU' # Germany-Luxembourg\n",
    "type_marketagreement_type = 'A01'\n",
    "contract_marketagreement_type = \"A01\""
   ]
  },
  {
   "cell_type": "code",
   "execution_count": 8,
   "id": "d75713e3",
   "metadata": {},
   "outputs": [],
   "source": [
    "ts = client.query_day_ahead_prices(country_code, start=start, end=end)\n"
   ]
  },
  {
   "cell_type": "code",
   "execution_count": 9,
   "id": "2911786b",
   "metadata": {},
   "outputs": [
    {
     "name": "stdout",
     "output_type": "stream",
     "text": [
      "2023-06-13 00:00:00+02:00     89.11\n",
      "2023-06-13 01:00:00+02:00     82.78\n",
      "2023-06-13 02:00:00+02:00     83.29\n",
      "2023-06-13 03:00:00+02:00     82.75\n",
      "2023-06-13 04:00:00+02:00     84.77\n",
      "2023-06-13 05:00:00+02:00     90.04\n",
      "2023-06-13 06:00:00+02:00    101.56\n",
      "2023-06-13 07:00:00+02:00    118.63\n",
      "2023-06-13 08:00:00+02:00    120.04\n",
      "2023-06-13 09:00:00+02:00    103.12\n",
      "2023-06-13 10:00:00+02:00     85.08\n",
      "2023-06-13 11:00:00+02:00     81.79\n",
      "2023-06-13 12:00:00+02:00     67.63\n",
      "2023-06-13 13:00:00+02:00     73.22\n",
      "2023-06-13 14:00:00+02:00     71.33\n",
      "2023-06-13 15:00:00+02:00     65.50\n",
      "2023-06-13 16:00:00+02:00     73.51\n",
      "2023-06-13 17:00:00+02:00     84.64\n",
      "2023-06-13 18:00:00+02:00    101.52\n",
      "2023-06-13 19:00:00+02:00    112.60\n",
      "2023-06-13 20:00:00+02:00    120.38\n",
      "2023-06-13 21:00:00+02:00    113.95\n",
      "2023-06-13 22:00:00+02:00    105.00\n",
      "2023-06-13 23:00:00+02:00     98.38\n",
      "2023-06-14 00:00:00+02:00     96.28\n",
      "Freq: 60T, dtype: float64\n"
     ]
    }
   ],
   "source": [
    "print(ts)"
   ]
  },
  {
   "cell_type": "code",
   "execution_count": null,
   "id": "093be565",
   "metadata": {},
   "outputs": [],
   "source": []
  }
 ],
 "metadata": {
  "kernelspec": {
   "display_name": "Python 3 (ipykernel)",
   "language": "python",
   "name": "python3"
  },
  "language_info": {
   "codemirror_mode": {
    "name": "ipython",
    "version": 3
   },
   "file_extension": ".py",
   "mimetype": "text/x-python",
   "name": "python",
   "nbconvert_exporter": "python",
   "pygments_lexer": "ipython3",
   "version": "3.11.4"
  }
 },
 "nbformat": 4,
 "nbformat_minor": 5
}
